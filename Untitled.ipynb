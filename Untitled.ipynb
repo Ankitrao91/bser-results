{
 "cells": [
  {
   "cell_type": "code",
   "execution_count": 1,
   "metadata": {},
   "outputs": [
    {
     "name": "stdout",
     "output_type": "stream",
     "text": [
      "Requirement already satisfied: requests in c:\\users\\hp\\appdata\\local\\programs\\python\\python311\\lib\\site-packages (2.29.0)\n",
      "Requirement already satisfied: charset-normalizer<4,>=2 in c:\\users\\hp\\appdata\\local\\programs\\python\\python311\\lib\\site-packages (from requests) (3.1.0)\n",
      "Requirement already satisfied: idna<4,>=2.5 in c:\\users\\hp\\appdata\\local\\programs\\python\\python311\\lib\\site-packages (from requests) (3.4)\n",
      "Requirement already satisfied: urllib3<1.27,>=1.21.1 in c:\\users\\hp\\appdata\\local\\programs\\python\\python311\\lib\\site-packages (from requests) (1.26.15)\n",
      "Requirement already satisfied: certifi>=2017.4.17 in c:\\users\\hp\\appdata\\local\\programs\\python\\python311\\lib\\site-packages (from requests) (2022.12.7)\n"
     ]
    }
   ],
   "source": [
    "!pip install requests"
   ]
  },
  {
   "cell_type": "code",
   "execution_count": null,
   "metadata": {},
   "outputs": [],
   "source": []
  },
  {
   "cell_type": "code",
   "execution_count": 1,
   "metadata": {},
   "outputs": [],
   "source": []
  },
  {
   "cell_type": "code",
   "execution_count": 2,
   "metadata": {},
   "outputs": [
    {
     "name": "stdout",
     "output_type": "stream",
     "text": [
      "starting roll no:3273007\n",
      "ending roll no:3273015\n"
     ]
    }
   ],
   "source": [
    "roll_no_start = int(input('starting roll no:'))\n",
    "roll_no_end = int(input('ending roll no:'))"
   ]
  },
  {
   "cell_type": "code",
   "execution_count": 40,
   "metadata": {},
   "outputs": [
    {
     "name": "stderr",
     "output_type": "stream",
     "text": [
      "C:\\ProgramData\\Anaconda3\\lib\\site-packages\\urllib3\\connectionpool.py:857: InsecureRequestWarning: Unverified HTTPS request is being made. Adding certificate verification is strongly advised. See: https://urllib3.readthedocs.io/en/latest/advanced-usage.html#ssl-warnings\n",
      "  InsecureRequestWarning)\n"
     ]
    }
   ],
   "source": [
    "resp = requests.post('https://rajeduboard.rajasthan.gov.in/RESULT2023/ARTS/Roll_Output.asp', data={'roll_no': roll_no,'B1':'Submit'}, verify = False)"
   ]
  },
  {
   "cell_type": "code",
   "execution_count": 3,
   "metadata": {},
   "outputs": [
    {
     "name": "stdout",
     "output_type": "stream",
     "text": [
      "Collecting pdfkit\n",
      "  Downloading pdfkit-1.0.0-py3-none-any.whl (12 kB)\n",
      "Installing collected packages: pdfkit\n",
      "Successfully installed pdfkit-1.0.0\n"
     ]
    }
   ],
   "source": [
    "!pip install pdfkit\n"
   ]
  },
  {
   "cell_type": "code",
   "execution_count": 5,
   "metadata": {},
   "outputs": [
    {
     "name": "stdout",
     "output_type": "stream",
     "text": [
      "Collecting PYPDF2\n",
      "  Downloading pypdf2-3.0.1-py3-none-any.whl (232 kB)\n",
      "                                              0.0/232.6 kB ? eta -:--:--\n",
      "                                              0.0/232.6 kB ? eta -:--:--\n",
      "                                              0.0/232.6 kB ? eta -:--:--\n",
      "     -                                        10.2/232.6 kB ? eta -:--:--\n",
      "     -                                        10.2/232.6 kB ? eta -:--:--\n",
      "     -                                        10.2/232.6 kB ? eta -:--:--\n",
      "     ----                                  30.7/232.6 kB 119.1 kB/s eta 0:00:02\n",
      "     ----                                  30.7/232.6 kB 119.1 kB/s eta 0:00:02\n",
      "     ----                                  30.7/232.6 kB 119.1 kB/s eta 0:00:02\n",
      "     -----------                           71.7/232.6 kB 218.6 kB/s eta 0:00:01\n",
      "     --------------                        92.2/232.6 kB 249.8 kB/s eta 0:00:01\n",
      "     -------------------                  122.9/232.6 kB 313.8 kB/s eta 0:00:01\n",
      "     -------------------------------      204.8/232.6 kB 479.2 kB/s eta 0:00:01\n",
      "     ------------------------------------ 232.6/232.6 kB 490.8 kB/s eta 0:00:00\n",
      "Installing collected packages: PYPDF2\n",
      "Successfully installed PYPDF2-3.0.1\n"
     ]
    }
   ],
   "source": [
    "!pip install PYPDF2"
   ]
  },
  {
   "cell_type": "code",
   "execution_count": 6,
   "metadata": {},
   "outputs": [
    {
     "name": "stderr",
     "output_type": "stream",
     "text": [
      "C:\\Users\\hp\\AppData\\Local\\Programs\\Python\\Python311\\Lib\\site-packages\\urllib3\\connectionpool.py:1045: InsecureRequestWarning: Unverified HTTPS request is being made to host 'rajeduboard.rajasthan.gov.in'. Adding certificate verification is strongly advised. See: https://urllib3.readthedocs.io/en/1.26.x/advanced-usage.html#ssl-warnings\n",
      "  warnings.warn(\n"
     ]
    },
    {
     "name": "stdout",
     "output_type": "stream",
     "text": [
      "3273007.pdf\n",
      "['3273007.pdf']\n"
     ]
    },
    {
     "name": "stderr",
     "output_type": "stream",
     "text": [
      "C:\\Users\\hp\\AppData\\Local\\Programs\\Python\\Python311\\Lib\\site-packages\\urllib3\\connectionpool.py:1045: InsecureRequestWarning: Unverified HTTPS request is being made to host 'rajeduboard.rajasthan.gov.in'. Adding certificate verification is strongly advised. See: https://urllib3.readthedocs.io/en/1.26.x/advanced-usage.html#ssl-warnings\n",
      "  warnings.warn(\n"
     ]
    },
    {
     "name": "stdout",
     "output_type": "stream",
     "text": [
      "3273008.pdf\n",
      "['3273007.pdf', '3273008.pdf']\n"
     ]
    },
    {
     "name": "stderr",
     "output_type": "stream",
     "text": [
      "C:\\Users\\hp\\AppData\\Local\\Programs\\Python\\Python311\\Lib\\site-packages\\urllib3\\connectionpool.py:1045: InsecureRequestWarning: Unverified HTTPS request is being made to host 'rajeduboard.rajasthan.gov.in'. Adding certificate verification is strongly advised. See: https://urllib3.readthedocs.io/en/1.26.x/advanced-usage.html#ssl-warnings\n",
      "  warnings.warn(\n"
     ]
    },
    {
     "name": "stdout",
     "output_type": "stream",
     "text": [
      "3273009.pdf\n",
      "['3273007.pdf', '3273008.pdf', '3273009.pdf']\n"
     ]
    },
    {
     "name": "stderr",
     "output_type": "stream",
     "text": [
      "C:\\Users\\hp\\AppData\\Local\\Programs\\Python\\Python311\\Lib\\site-packages\\urllib3\\connectionpool.py:1045: InsecureRequestWarning: Unverified HTTPS request is being made to host 'rajeduboard.rajasthan.gov.in'. Adding certificate verification is strongly advised. See: https://urllib3.readthedocs.io/en/1.26.x/advanced-usage.html#ssl-warnings\n",
      "  warnings.warn(\n"
     ]
    },
    {
     "name": "stdout",
     "output_type": "stream",
     "text": [
      "3273010.pdf\n",
      "['3273007.pdf', '3273008.pdf', '3273009.pdf', '3273010.pdf']\n"
     ]
    },
    {
     "name": "stderr",
     "output_type": "stream",
     "text": [
      "C:\\Users\\hp\\AppData\\Local\\Programs\\Python\\Python311\\Lib\\site-packages\\urllib3\\connectionpool.py:1045: InsecureRequestWarning: Unverified HTTPS request is being made to host 'rajeduboard.rajasthan.gov.in'. Adding certificate verification is strongly advised. See: https://urllib3.readthedocs.io/en/1.26.x/advanced-usage.html#ssl-warnings\n",
      "  warnings.warn(\n"
     ]
    },
    {
     "name": "stdout",
     "output_type": "stream",
     "text": [
      "3273011.pdf\n",
      "['3273007.pdf', '3273008.pdf', '3273009.pdf', '3273010.pdf', '3273011.pdf']\n"
     ]
    },
    {
     "name": "stderr",
     "output_type": "stream",
     "text": [
      "C:\\Users\\hp\\AppData\\Local\\Programs\\Python\\Python311\\Lib\\site-packages\\urllib3\\connectionpool.py:1045: InsecureRequestWarning: Unverified HTTPS request is being made to host 'rajeduboard.rajasthan.gov.in'. Adding certificate verification is strongly advised. See: https://urllib3.readthedocs.io/en/1.26.x/advanced-usage.html#ssl-warnings\n",
      "  warnings.warn(\n"
     ]
    },
    {
     "name": "stdout",
     "output_type": "stream",
     "text": [
      "3273012.pdf\n",
      "['3273007.pdf', '3273008.pdf', '3273009.pdf', '3273010.pdf', '3273011.pdf', '3273012.pdf']\n"
     ]
    },
    {
     "name": "stderr",
     "output_type": "stream",
     "text": [
      "C:\\Users\\hp\\AppData\\Local\\Programs\\Python\\Python311\\Lib\\site-packages\\urllib3\\connectionpool.py:1045: InsecureRequestWarning: Unverified HTTPS request is being made to host 'rajeduboard.rajasthan.gov.in'. Adding certificate verification is strongly advised. See: https://urllib3.readthedocs.io/en/1.26.x/advanced-usage.html#ssl-warnings\n",
      "  warnings.warn(\n"
     ]
    },
    {
     "name": "stdout",
     "output_type": "stream",
     "text": [
      "3273013.pdf\n",
      "['3273007.pdf', '3273008.pdf', '3273009.pdf', '3273010.pdf', '3273011.pdf', '3273012.pdf', '3273013.pdf']\n"
     ]
    },
    {
     "name": "stderr",
     "output_type": "stream",
     "text": [
      "C:\\Users\\hp\\AppData\\Local\\Programs\\Python\\Python311\\Lib\\site-packages\\urllib3\\connectionpool.py:1045: InsecureRequestWarning: Unverified HTTPS request is being made to host 'rajeduboard.rajasthan.gov.in'. Adding certificate verification is strongly advised. See: https://urllib3.readthedocs.io/en/1.26.x/advanced-usage.html#ssl-warnings\n",
      "  warnings.warn(\n"
     ]
    },
    {
     "name": "stdout",
     "output_type": "stream",
     "text": [
      "3273014.pdf\n",
      "['3273007.pdf', '3273008.pdf', '3273009.pdf', '3273010.pdf', '3273011.pdf', '3273012.pdf', '3273013.pdf', '3273014.pdf']\n"
     ]
    },
    {
     "name": "stderr",
     "output_type": "stream",
     "text": [
      "C:\\Users\\hp\\AppData\\Local\\Programs\\Python\\Python311\\Lib\\site-packages\\urllib3\\connectionpool.py:1045: InsecureRequestWarning: Unverified HTTPS request is being made to host 'rajeduboard.rajasthan.gov.in'. Adding certificate verification is strongly advised. See: https://urllib3.readthedocs.io/en/1.26.x/advanced-usage.html#ssl-warnings\n",
      "  warnings.warn(\n"
     ]
    },
    {
     "name": "stdout",
     "output_type": "stream",
     "text": [
      "3273015.pdf\n",
      "['3273007.pdf', '3273008.pdf', '3273009.pdf', '3273010.pdf', '3273011.pdf', '3273012.pdf', '3273013.pdf', '3273014.pdf', '3273015.pdf']\n"
     ]
    }
   ],
   "source": [
    "import requests\n",
    "import time\n",
    "import os\n",
    "from PyPDF2 import PdfMerger\n",
    "\n",
    "import pdfkit\n",
    "path_wkhtmltopdf = r'C:\\Users\\hp\\Desktop\\New Folder\\wkhtmltopdf.exe'\n",
    "config = pdfkit.configuration(wkhtmltopdf=path_wkhtmltopdf)\n",
    "\n",
    "merger = PdfMerger()\n",
    "pdf_files  = []\n",
    "for i in range(roll_no_start , roll_no_end+1):\n",
    "   \n",
    "#     print(i)\n",
    "    resp = requests.post('https://rajeduboard.rajasthan.gov.in/RESULT2023/ARTS/Roll_Output.asp', data={'roll_no': i,'B1':'Submit'}, verify = False)\n",
    "    roll_no = str(i)\n",
    "\n",
    " \n",
    "    with open(roll_no+\".html\", \"w\") as f:\n",
    "        f.write(resp.text)\n",
    "    filename_html =  str(roll_no+\".html\")\n",
    "    filename_pdf =  str(roll_no+\".pdf\")\n",
    "\n",
    "#     print(filename_html)\n",
    "    pdfkit.from_file(filename_html, filename_pdf, configuration=config)\n",
    "    \n",
    "    print(filename_pdf)\n",
    "    pdf_files.append(filename_pdf)\n",
    "    print(pdf_files)\n",
    "\n",
    "   \n",
    "    time.sleep(1)  \n",
    "    os.remove(filename_html)\n",
    "for pdf_file in pdf_files:\n",
    "    #Append PDF files\n",
    "    merger.append(pdf_file)\n",
    "time.sleep(2)  \n",
    "merger.write(\"merged_\" +str(roll_no_start)+\" to \"+str(roll_no_end)+\".pdf\")\n",
    "merger.close()    "
   ]
  },
  {
   "cell_type": "code",
   "execution_count": null,
   "metadata": {},
   "outputs": [],
   "source": []
  }
 ],
 "metadata": {
  "kernelspec": {
   "display_name": "Python 3 (ipykernel)",
   "language": "python",
   "name": "python3"
  },
  "language_info": {
   "codemirror_mode": {
    "name": "ipython",
    "version": 3
   },
   "file_extension": ".py",
   "mimetype": "text/x-python",
   "name": "python",
   "nbconvert_exporter": "python",
   "pygments_lexer": "ipython3",
   "version": "3.11.3"
  }
 },
 "nbformat": 4,
 "nbformat_minor": 2
}
